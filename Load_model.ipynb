{
 "cells": [
  {
   "cell_type": "code",
   "execution_count": 8,
   "metadata": {},
   "outputs": [],
   "source": [
    "inputs = [{\n",
    "    'hotel': 'Resort Hotel',\n",
    "    'lead_time': 342,\n",
    "    'arrival_date_year': 2015,\n",
    "    'arrival_date_month': 'July',\n",
    "    'arrival_date_week_number': 27,\n",
    "    'arrival_date_day_of_month': 1,\n",
    "    'stays_in_weekend_nights': 0,\n",
    "    'stays_in_week_nights': 0,\n",
    "    'adults': 2,\n",
    "    'children': 0,\n",
    "    'babies': 0,\n",
    "    'meal': 'BB',\n",
    "    'country': 'PRT',\n",
    "    'market_segment': 'Direct',\n",
    "    'distribution_channel': 'Direct',\n",
    "    'is_repeated_guest': 0,\n",
    "    'previous_cancellations': 0,\n",
    "    'previous_bookings_not_canceled': 0,\n",
    "    'reserved_room_type': 'C',\n",
    "    'assigned_room_type': 'C',\n",
    "    'booking_changes': 3,\n",
    "    'deposit_type': 'No Deposit',\n",
    "    'agent': 'NULL',\n",
    "    'company':'NULL',\n",
    "    'days_in_waiting_list': 0,\n",
    "    'customer_type': 'Transient',\n",
    "    'adr': 0,\n",
    "    'required_car_parking_spaces': 0,\n",
    "    'total_of_special_requests': 0,\n",
    "    'reservation_status': 'Check-Out',\n",
    "    'reservation_status_date': '7/1/2015'\n",
    "}]\n"
   ]
  },
  {
   "cell_type": "code",
   "execution_count": 18,
   "metadata": {},
   "outputs": [],
   "source": [
    "import pandas as pd\n",
    "from Pre_processing import * \n",
    "def check_source(csv_selected):\n",
    "    if csv_selected:  # No need for the equality check here, just use the variable itself\n",
    "        new_data = pd.read_csv(\"hotel_bookings_models_inputs.csv\")\n",
    "    else:\n",
    "        # Assuming 'inputs' is defined somewhere else in your code\n",
    "        new_data = pd.DataFrame(inputs)\n",
    "\n",
    "    new_data = Preprocess_inputs(new_data)\n",
    "    return new_data\n",
    "csv_selected=True\n",
    "data=check_source(csv_selected)"
   ]
  },
  {
   "cell_type": "code",
   "execution_count": 19,
   "metadata": {},
   "outputs": [
    {
     "name": "stdout",
     "output_type": "stream",
     "text": [
      "[1 1 1 1 1 1 1 1 1 1 0 0 0 0 0 0 0 0 0 0 0 0 0 0 0 0 0 0 1 0]\n"
     ]
    }
   ],
   "source": [
    "import joblib\n",
    "# load the model from disk\n",
    "filename = 'finalized_model.sav'\n",
    "loaded_model = joblib.load(filename)\n",
    "# Make predictions on new_data\n",
    "predictions = loaded_model.predict(data)\n",
    "# Now you can use the predictions as needed\n",
    "print(predictions)"
   ]
  },
  {
   "cell_type": "code",
   "execution_count": null,
   "metadata": {},
   "outputs": [],
   "source": [
    "Actualresults=[\n",
    "    1, 1, 1, 1, 1, 1, 1, 1, 1, 1,\n",
    "    0, 0, 0, 0, 0, 0, 0, 0, 0, 0,\n",
    "    0, 0, 0, 0, 0, 0, 0, 0, 1, 0\n",
    "]"
   ]
  }
 ],
 "metadata": {
  "kernelspec": {
   "display_name": "HB",
   "language": "python",
   "name": "python3"
  },
  "language_info": {
   "codemirror_mode": {
    "name": "ipython",
    "version": 3
   },
   "file_extension": ".py",
   "mimetype": "text/x-python",
   "name": "python",
   "nbconvert_exporter": "python",
   "pygments_lexer": "ipython3",
   "version": "3.12.1"
  }
 },
 "nbformat": 4,
 "nbformat_minor": 2
}
